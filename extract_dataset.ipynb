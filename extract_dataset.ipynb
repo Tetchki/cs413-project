{
 "cells": [
  {
   "cell_type": "code",
   "id": "initial_id",
   "metadata": {
    "collapsed": true,
    "ExecuteTime": {
     "end_time": "2025-05-22T17:09:12.490602Z",
     "start_time": "2025-05-22T17:09:12.269295Z"
    }
   },
   "source": [
    "import os\n",
    "import pandas as pd\n",
    "import re"
   ],
   "outputs": [],
   "execution_count": 12
  },
  {
   "metadata": {
    "ExecuteTime": {
     "end_time": "2025-05-22T17:02:22.479621Z",
     "start_time": "2025-05-22T17:02:22.477620Z"
    }
   },
   "cell_type": "code",
   "source": "path = \"data/synthbuster\"",
   "id": "d926fca592117e7f",
   "outputs": [],
   "execution_count": 2
  },
  {
   "metadata": {
    "ExecuteTime": {
     "end_time": "2025-05-22T17:04:00.226888Z",
     "start_time": "2025-05-22T17:04:00.224341Z"
    }
   },
   "cell_type": "code",
   "source": [
    "def find_all_images(root_folder):\n",
    "    \"\"\"\n",
    "    Returns a list of all PNG images in the given directory and its subdirectories.\n",
    "    Args:\n",
    "        root_folder (str): The root directory to search for images.\n",
    "    Returns:\n",
    "        List[str]: A list of paths to all PNG images found.\n",
    "    \"\"\"\n",
    "    png_paths = []\n",
    "    for dirpath, _, filenames in os.walk(root_folder):\n",
    "        for filename in filenames:\n",
    "            if filename.lower().endswith('.png'):\n",
    "                full_path = os.path.join(dirpath, filename)\n",
    "                png_paths.append(full_path)\n",
    "    return png_paths"
   ],
   "id": "82819cd4decc40b9",
   "outputs": [],
   "execution_count": 7
  },
  {
   "metadata": {
    "ExecuteTime": {
     "end_time": "2025-05-22T17:17:35.980352Z",
     "start_time": "2025-05-22T17:17:35.964002Z"
    }
   },
   "cell_type": "code",
   "source": [
    "file_paths = find_all_images(path)\n",
    "\n",
    "print(f\"Found {len(file_paths)} images in {path}\")\n",
    "print(\"First path: \", file_paths[0])"
   ],
   "id": "fd1b05eb8741f24a",
   "outputs": [
    {
     "name": "stdout",
     "output_type": "stream",
     "text": [
      "Found 9000 images in data/synthbuster\n",
      "First path:  data/synthbuster/dalle3/r1b106abdt.png\n"
     ]
    }
   ],
   "execution_count": 31
  },
  {
   "metadata": {
    "ExecuteTime": {
     "end_time": "2025-05-22T17:17:37.140736Z",
     "start_time": "2025-05-22T17:17:37.136450Z"
    }
   },
   "cell_type": "code",
   "source": [
    "def filter_images_by_prompt(csv_path, words):\n",
    "    \"\"\"\n",
    "    Returns a list of image names where all the given words appear in the prompt.\n",
    "\n",
    "    Args:\n",
    "        csv_path (str): Path to the CSV file.\n",
    "        words (list of str): Words to search for in the prompt.\n",
    "\n",
    "    Returns:\n",
    "        List[str]: Image names where all words are present in the prompt.\n",
    "    \"\"\"\n",
    "    df = pd.read_csv(csv_path)\n",
    "    # Convert all prompts to lowercase for case-insensitive matching\n",
    "    df['Prompt'] = df['Prompt'].str.lower()\n",
    "    words = [w.lower() for w in words]\n",
    "\n",
    "    def prompt_contains_all(prompt):\n",
    "        return all(word in prompt for word in words)\n",
    "\n",
    "    # Filter rows\n",
    "    matches = df[df['Prompt'].apply(prompt_contains_all)]\n",
    "    return matches['image name (matching Raise-1k)'].tolist()"
   ],
   "id": "5ca26a0d5a74fce7",
   "outputs": [],
   "execution_count": 32
  },
  {
   "metadata": {
    "ExecuteTime": {
     "end_time": "2025-05-22T17:17:52.562598Z",
     "start_time": "2025-05-22T17:17:52.545044Z"
    }
   },
   "cell_type": "code",
   "source": [
    "csv_path = \"data/synthbuster/prompts.csv\"\n",
    "image_names = filter_images_by_prompt(csv_path, ['building'])\n",
    "print(len(image_names))\n",
    "print(\"First image name: \", image_names[0])"
   ],
   "id": "c22ebe54170fe9d4",
   "outputs": [
    {
     "name": "stdout",
     "output_type": "stream",
     "text": [
      "190\n",
      "First image name:  r0b3979d0t\n"
     ]
    }
   ],
   "execution_count": 35
  },
  {
   "metadata": {
    "ExecuteTime": {
     "end_time": "2025-05-22T17:18:29.679601Z",
     "start_time": "2025-05-22T17:18:29.677037Z"
    }
   },
   "cell_type": "code",
   "source": [
    "def filter_paths_by_image_stems(file_paths, image_names):\n",
    "    \"\"\"\n",
    "    Returns all file paths whose basename (without extension) is in image_names.\n",
    "\n",
    "    Args:\n",
    "        file_paths (list of str): List of full image file paths.\n",
    "        image_names (list of str): List of image names (without extensions).\n",
    "\n",
    "    Returns:\n",
    "        List[str]: Filtered list of file paths.\n",
    "    \"\"\"\n",
    "    image_names_set = set(image_names)\n",
    "    return [\n",
    "        fp for fp in file_paths\n",
    "        if os.path.splitext(os.path.basename(fp))[0] in image_names_set\n",
    "    ]\n"
   ],
   "id": "a033a4830624eef9",
   "outputs": [],
   "execution_count": 36
  },
  {
   "metadata": {
    "ExecuteTime": {
     "end_time": "2025-05-22T17:21:41.147756Z",
     "start_time": "2025-05-22T17:21:41.136255Z"
    }
   },
   "cell_type": "code",
   "source": [
    "filtered_paths = filter_paths_by_image_stems(file_paths, image_names)\n",
    "print(\"First image name: \", filtered_paths[0])\n",
    "print(\"Len of filtered paths: \", len(filtered_paths))\n"
   ],
   "id": "f70f252373df2cd4",
   "outputs": [
    {
     "name": "stdout",
     "output_type": "stream",
     "text": [
      "First image name:  data/synthbuster/dalle3/r1ee6f90et.png\n",
      "Len of filtered paths:  1710\n"
     ]
    }
   ],
   "execution_count": 41
  },
  {
   "metadata": {
    "ExecuteTime": {
     "end_time": "2025-05-22T17:33:13.127420Z",
     "start_time": "2025-05-22T17:33:13.124524Z"
    }
   },
   "cell_type": "code",
   "source": [
    "def make_name_folder_filenames(file_paths):\n",
    "    \"\"\"\n",
    "    For each path, return a tuple of (new_name, original_path), where\n",
    "    new_name is 'name_folder.ext' (e.g., 'r1ee6f90et_dalle3.png').\n",
    "\n",
    "    Args:\n",
    "        file_paths (list of str): List of original file paths.\n",
    "\n",
    "    Returns:\n",
    "        List[Tuple[str, str]]: List of (new_name, path) tuples.\n",
    "    \"\"\"\n",
    "    new_names = []\n",
    "    for path in file_paths:\n",
    "        base = os.path.basename(path)\n",
    "        name, ext = os.path.splitext(base)\n",
    "        folder = os.path.basename(os.path.dirname(path))\n",
    "        new_name = f\"{name}_{folder}{ext}\"\n",
    "        new_names.append((new_name, path))\n",
    "    return new_names"
   ],
   "id": "fdd5519afc84a7d3",
   "outputs": [],
   "execution_count": 54
  },
  {
   "metadata": {
    "ExecuteTime": {
     "end_time": "2025-05-22T17:33:13.503464Z",
     "start_time": "2025-05-22T17:33:13.497489Z"
    }
   },
   "cell_type": "code",
   "source": "filtered_tuples = make_name_folder_filenames(filtered_paths)",
   "id": "197ce8fca65a5e4d",
   "outputs": [
    {
     "name": "stdout",
     "output_type": "stream",
     "text": [
      "First new name:  ('r1ee6f90et_dalle3.png', 'data/synthbuster/dalle3/r1ee6f90et.png')\n",
      "1710\n"
     ]
    }
   ],
   "execution_count": 55
  },
  {
   "metadata": {
    "ExecuteTime": {
     "end_time": "2025-05-22T17:33:14.011734Z",
     "start_time": "2025-05-22T17:33:14.009836Z"
    }
   },
   "cell_type": "code",
   "source": "destination_folder = \"data/synthbuster/building\"",
   "id": "65a6c8ea3165e7e9",
   "outputs": [],
   "execution_count": 56
  },
  {
   "metadata": {
    "ExecuteTime": {
     "end_time": "2025-05-22T17:33:21.072018Z",
     "start_time": "2025-05-22T17:33:21.069293Z"
    }
   },
   "cell_type": "code",
   "source": [
    "import shutil\n",
    "\n",
    "def copy_tuples_to_destination(tuples_list, destination_folder):\n",
    "    \"\"\"\n",
    "    Copies files to the destination folder with new names.\n",
    "\n",
    "    Args:\n",
    "        tuples_list (list of tuples): Each tuple is (new_name, original_path).\n",
    "        destination_folder (str): The folder to save the copied files.\n",
    "    \"\"\"\n",
    "    os.makedirs(destination_folder, exist_ok=True)\n",
    "    for new_name, orig_path in tuples_list:\n",
    "        dest_path = os.path.join(destination_folder, new_name)\n",
    "        shutil.copy2(orig_path, dest_path)\n"
   ],
   "id": "f02856434542fb5b",
   "outputs": [],
   "execution_count": 57
  },
  {
   "metadata": {
    "ExecuteTime": {
     "end_time": "2025-05-22T17:33:27.869543Z",
     "start_time": "2025-05-22T17:33:21.576744Z"
    }
   },
   "cell_type": "code",
   "source": "copy_tuples_to_destination(filtered_tuples, destination_folder)",
   "id": "280577a0f408d906",
   "outputs": [],
   "execution_count": 58
  },
  {
   "metadata": {
    "ExecuteTime": {
     "end_time": "2025-05-22T17:49:23.062579Z",
     "start_time": "2025-05-22T17:49:23.057686Z"
    }
   },
   "cell_type": "code",
   "source": [
    "import os\n",
    "import shutil\n",
    "from PIL import Image\n",
    "from IPython.display import display, clear_output\n",
    "import ipywidgets as widgets\n",
    "\n",
    "def image_browser_move(folder, dest_folder):\n",
    "    os.makedirs(dest_folder, exist_ok=True)\n",
    "    image_files = [f for f in os.listdir(folder) if f.lower().endswith(('.png', '.jpg', '.jpeg', '.bmp', '.gif'))]\n",
    "    image_files.sort()\n",
    "    index = [0]  # use mutable type for closure\n",
    "\n",
    "    output = widgets.Output()\n",
    "\n",
    "    def show_image():\n",
    "        output.clear_output(wait=True)\n",
    "        if index[0] < 0 or index[0] >= len(image_files):\n",
    "            with output:\n",
    "                print(\"No more images.\")\n",
    "            return\n",
    "        img_path = os.path.join(folder, image_files[index[0]])\n",
    "        with output:\n",
    "            clear_output(wait=True)\n",
    "            img = Image.open(img_path)\n",
    "            display(img)\n",
    "            print(f\"{index[0]+1}/{len(image_files)}: {image_files[index[0]]}\")\n",
    "\n",
    "    def on_keep(b):\n",
    "        img_path = os.path.join(folder, image_files[index[0]])\n",
    "        dest_path = os.path.join(dest_folder, image_files[index[0]])\n",
    "        try:\n",
    "            shutil.move(img_path, dest_path)\n",
    "            print(f\"Moved: {image_files[index[0]]} to {dest_folder}\")\n",
    "        except Exception as e:\n",
    "            print(f\"Error moving {image_files[index[0]]}: {e}\")\n",
    "        del image_files[index[0]]\n",
    "        if index[0] >= len(image_files):\n",
    "            output.clear_output(wait=True)\n",
    "            with output:\n",
    "                print(\"Finished.\")\n",
    "        else:\n",
    "            show_image()\n",
    "\n",
    "    def on_skip(b):\n",
    "        if index[0] < len(image_files) - 1:\n",
    "            index[0] += 1\n",
    "            show_image()\n",
    "        else:\n",
    "            output.clear_output(wait=True)\n",
    "            with output:\n",
    "                print(\"Finished.\")\n",
    "\n",
    "    keep_button = widgets.Button(description=\"Keep (Move)\", button_style='success')\n",
    "    skip_button = widgets.Button(description=\"Skip\", button_style='warning')\n",
    "\n",
    "    keep_button.on_click(on_keep)\n",
    "    skip_button.on_click(on_skip)\n",
    "\n",
    "    show_image()\n",
    "    display(widgets.HBox([keep_button, skip_button]), output)\n",
    "\n",
    "# Usage:\n",
    "# image_browser_move('data/synthbuster/building', 'data/synthbuster/keep')\n"
   ],
   "id": "546c10bdb6f7a4f1",
   "outputs": [],
   "execution_count": 62
  },
  {
   "metadata": {
    "ExecuteTime": {
     "end_time": "2025-05-22T17:49:23.533065Z",
     "start_time": "2025-05-22T17:49:23.530332Z"
    }
   },
   "cell_type": "code",
   "source": [
    "folder = \"data/synthbuster/building\"\n",
    "dest_folder = \"data/synthbuster/keep\""
   ],
   "id": "5f8b2ce1d2b5f4f0",
   "outputs": [],
   "execution_count": 63
  },
  {
   "metadata": {
    "ExecuteTime": {
     "end_time": "2025-05-22T17:49:24.348488Z",
     "start_time": "2025-05-22T17:49:24.230250Z"
    }
   },
   "cell_type": "code",
   "source": "image_browser_move(folder, dest_folder)",
   "id": "7fcff73f726addc6",
   "outputs": [
    {
     "data": {
      "text/plain": [
       "HBox(children=(Button(button_style='success', description='Keep (Move)', style=ButtonStyle()), Button(button_s…"
      ],
      "application/vnd.jupyter.widget-view+json": {
       "version_major": 2,
       "version_minor": 0,
       "model_id": "08b50b0fe1d548e780eef09cf8373cc6"
      }
     },
     "metadata": {},
     "output_type": "display_data"
    },
    {
     "data": {
      "text/plain": [
       "Output()"
      ],
      "application/vnd.jupyter.widget-view+json": {
       "version_major": 2,
       "version_minor": 0,
       "model_id": "172da1ee9fd14ed6a65ac27ebfc746c0"
      }
     },
     "metadata": {},
     "output_type": "display_data"
    }
   ],
   "execution_count": null
  },
  {
   "metadata": {},
   "cell_type": "code",
   "outputs": [],
   "execution_count": null,
   "source": "",
   "id": "e7a90a4b8d454fd7"
  }
 ],
 "metadata": {
  "kernelspec": {
   "display_name": "Python 3",
   "language": "python",
   "name": "python3"
  },
  "language_info": {
   "codemirror_mode": {
    "name": "ipython",
    "version": 2
   },
   "file_extension": ".py",
   "mimetype": "text/x-python",
   "name": "python",
   "nbconvert_exporter": "python",
   "pygments_lexer": "ipython2",
   "version": "2.7.6"
  }
 },
 "nbformat": 4,
 "nbformat_minor": 5
}
